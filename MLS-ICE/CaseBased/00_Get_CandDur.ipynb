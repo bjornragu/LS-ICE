{
 "cells": [
  {
   "cell_type": "code",
   "execution_count": null,
   "metadata": {},
   "outputs": [],
   "source": [
    "import os\n",
    "import time\n",
    "import joblib\n",
    "\n",
    "import pandas as pd\n",
    "import numpy as np\n",
    "import datetime as dt\n",
    "from pm4py.objects.log.util import dataframe_utils"
   ]
  },
  {
   "cell_type": "code",
   "execution_count": null,
   "metadata": {},
   "outputs": [],
   "source": [
    "def get_lead_ts(log):\n",
    "    \n",
    "    temp_log = log.copy()\n",
    "    temp_log = temp_log.sort_values(['case_id', 'event_id'])\n",
    "    temp_log['ts_next'] = temp_log.ts.shift(-1)\n",
    "    temp_log.loc[temp_log['activity'] == '<EOS>', 'ts_next'] = np.nan\n",
    "    \n",
    "    return log_csv.merge(temp_log[['event_id', 'ts_next']], left_on='event_id', right_on='event_id')\n",
    "\n",
    "def get_proc_time(merge):\n",
    "    \n",
    "    return merge.apply(lambda x: (x.ts_next - x.ts).seconds, axis=1)\n",
    "\n",
    "def get_throughp_act(log, act, time_unit = 'minute'):\n",
    "\n",
    "    proc_time = get_proc_time(log)\n",
    "    \n",
    "    if time_unit == 'second':\n",
    "        print(f'{act} - average proctime {round(proc_time.mean(),2)} and median proctime {round(proc_time.median(),2)} seconds')\n",
    "    \n",
    "    elif time_unit == 'minute':\n",
    "        proc_time = proc_time/60\n",
    "        print(f'{act} - average proctime {round(proc_time.mean(),2)} and median proctime {round(proc_time.median(),2)} minutes')\n",
    "    \n",
    "    elif time_unit == 'hour':\n",
    "        proc_time = proc_time/3600\n",
    "        print(f'{act} - average proctime {round(proc_time.mean(),2)} and median proctime {round(proc_time.median(),2)} hours')\n",
    "        \n",
    "    else:\n",
    "        print('time unit not available, choose second, minute, hour')\n",
    "        \n",
    "    return proc_time\n",
    "\n",
    "def myround(x, base=5):\n",
    "    return base * round(x/base)\n",
    "\n",
    "def get_dur_range(log, act='W_Completeren aanvraag', time_unit='minutes', base=15, step=30, quantile=0.95):\n",
    "    \n",
    "    \n",
    "    proc_times = get_throughp_act(log[log.activity == act], act, time_unit='minute')\n",
    "    print(len(proc_times))\n",
    "    round_median = myround(np.median(proc_times), base)\n",
    "    if round_median == 0:\n",
    "        round_median = base\n",
    "        \n",
    "    round_quantile = myround(np.quantile(proc_times, q = 0.95), base)\n",
    "    if round_quantile == 0:\n",
    "        round_quantile = base\n",
    "    \n",
    "    duration_range = range(round_median, round_quantile+step, step)\n",
    "    print('duration search range:', duration_range, 'length:', len(duration_range))\n",
    "    \n",
    "    return duration_range\n",
    "\n",
    "def get_duration_range_dic(log):\n",
    "    \n",
    "    dur_range_dic = {}\n",
    "    for load in [col for col in log_csv.activity.value_counts().index if ('<EOS>' not in col) &  ('<BOS>' not in col)]:\n",
    "        dur_range = get_dur_range(log, load, 'minutes', 15, 30, 0.95) \n",
    "    \n",
    "        if (dur_range != range(15, 45, 30)):\n",
    "            dur_range_dic[load] = dur_range\n",
    "\n",
    "        else:\n",
    "            dur_range_dic[load] = range(15, 300, 30)\n",
    "            \n",
    "    return dur_range_dic\n",
    "        "
   ]
  },
  {
   "cell_type": "code",
   "execution_count": null,
   "metadata": {},
   "outputs": [],
   "source": [
    "log_csv = pd.read_csv('evlog.csv', sep=',')\n",
    "log_csv.ts = log_csv.ts.apply(lambda x: x[:-4]) #need to add this for some reason - otherwise search doesnt work\n",
    "log_csv.drop(log_csv.columns[0], axis=1, inplace=True)\n",
    "log_csv = dataframe_utils.convert_timestamp_columns_in_df(log_csv)"
   ]
  },
  {
   "cell_type": "code",
   "execution_count": null,
   "metadata": {},
   "outputs": [],
   "source": [
    "log_csv = get_lead_ts(log_csv)\n",
    "duration_dic = get_duration_range_dic(log_csv)\n",
    "duration_dic['<EOS>'] = range(15, 300, 30)\n",
    "duration_dic['<BOS>'] = range(15, 300, 30)"
   ]
  },
  {
   "cell_type": "code",
   "execution_count": null,
   "metadata": {},
   "outputs": [],
   "source": [
    "joblib.dump(duration_dic, \"dur_range_dic.pickle\")\n"
   ]
  },
  {
   "cell_type": "code",
   "execution_count": null,
   "metadata": {},
   "outputs": [],
   "source": []
  }
 ],
 "metadata": {
  "kernelspec": {
   "display_name": "Python 3",
   "language": "python",
   "name": "python3"
  },
  "language_info": {
   "codemirror_mode": {
    "name": "ipython",
    "version": 3
   },
   "file_extension": ".py",
   "mimetype": "text/x-python",
   "name": "python",
   "nbconvert_exporter": "python",
   "pygments_lexer": "ipython3",
   "version": "3.7.9"
  }
 },
 "nbformat": 4,
 "nbformat_minor": 4
}
