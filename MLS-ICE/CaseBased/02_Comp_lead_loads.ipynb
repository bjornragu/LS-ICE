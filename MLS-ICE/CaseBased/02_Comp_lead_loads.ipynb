{
 "cells": [
  {
   "cell_type": "code",
   "execution_count": 1,
   "metadata": {},
   "outputs": [
    {
     "data": {
      "text/html": [
       "<style>.container { width:85% !important; }</style>"
      ],
      "text/plain": [
       "<IPython.core.display.HTML object>"
      ]
     },
     "metadata": {},
     "output_type": "display_data"
    }
   ],
   "source": [
    "%load_ext autoreload\n",
    "%autoreload 2\n",
    "from IPython.core.display import display, HTML\n",
    "display(HTML(\"<style>.container { width:85% !important; }</style>\"))"
   ]
  },
  {
   "cell_type": "code",
   "execution_count": 2,
   "metadata": {},
   "outputs": [],
   "source": [
    "import os\n",
    "from tqdm.auto import tqdm\n",
    "import numpy as np\n",
    "import pandas as pd\n",
    "from pm4py.objects.log.util import dataframe_utils\n",
    "import time\n",
    "import joblib"
   ]
  },
  {
   "cell_type": "code",
   "execution_count": 11,
   "metadata": {},
   "outputs": [],
   "source": [
    "def get_lead_ts(log):\n",
    "    \n",
    "    temp_log = log.copy()\n",
    "    temp_log = temp_log.sort_values(['case_id', 'event_id'])\n",
    "    temp_log['ts_next'] = temp_log.ts.shift(-1)\n",
    "    temp_log.loc[temp_log['activity'] == '<EOS>', 'ts_next'] = np.nan\n",
    "    \n",
    "    return log.merge(temp_log[['event_id', 'ts_next']], left_on='event_id', right_on='event_id')\n",
    "\n",
    "def get_all_configs(conf_dir = 'configs/lead_configs/'):\n",
    "        \n",
    "    configurations = {}\n",
    "\n",
    "    for conf in os.listdir(conf_dir):\n",
    "\n",
    "        if 'configuration' in conf:\n",
    "            configurations.update(joblib.load(conf_dir + conf))\n",
    "\n",
    "    #print('config keys:', list(configurations.keys()))\n",
    "    \n",
    "    return configurations\n",
    "\n",
    "\n",
    "def fill_na_configs(configs, na_val = 60*24):\n",
    "    \n",
    "    for locations in list(configs.keys()):\n",
    "        \n",
    "        for key, val in zip(configs['{}'.format(locations)].keys(), configs['{}'.format(locations)].values()):\n",
    "            \n",
    "            if pd.isna(val[0]):\n",
    "                #print(locations, key, val)\n",
    "                configs['{}'.format(locations)][key] = (configs['{}'.format(locations)][key][0], configs['{}'.format(locations)][key][1], (na_val))\n",
    "    \n",
    "    return configs      \n",
    "            \n",
    "            \n",
    "\n",
    "def get_lead_location(log, location):\n",
    "    \n",
    "    #ev_ids = np.array(log[log.activity.str.startswith(target_activity)].event_id)+1 \n",
    "    ev_ids = np.array(log[log.activity == location].event_id)+1 \n",
    "    leads = log[log.event_id.isin(ev_ids)]['activity'].value_counts()\n",
    "\n",
    "    return leads\n",
    "\n",
    "\n",
    "def get_lead_location_dict(log, lead):\n",
    "    \n",
    "    lead_dic = {}\n",
    "    locations = log.activity.value_counts().index\n",
    "    \n",
    "    for location in locations:\n",
    "        \n",
    "        lead_dic[location] = {}\n",
    "        \n",
    "        if location == '<EOS>':\n",
    "            lead_dic[location] = ['NoLeadLocation']\n",
    "            continue\n",
    "        \n",
    "        leads = get_lead_location(log, location)\n",
    "        lead_dic[location] = list(leads.index[:lead+1])\n",
    "        \n",
    "    return lead_dic\n",
    "\n",
    "\n",
    "\n",
    "def comp_loadstate_optdur(x, previous, configs, lead):\n",
    "    \n",
    "    if len(previous) > 0:\n",
    "        \n",
    "        location = x['activity']\n",
    "\n",
    "        offset = pd.DateOffset(minutes=0)\n",
    "        diff = pd.DateOffset(minutes=configs[location][list(configs[location].keys())[lead]][2])\n",
    "        \n",
    "\n",
    "        return pd.Series([x.event_id, previous.loc[(previous.index >= x['ts']-diff-offset) & (previous.index < x['ts']-offset)].ts.count()])\n",
    "    \n",
    "    else:\n",
    "        return pd.Series([x.event_id, 0])\n",
    "    \n",
    "    \n",
    "def comp_loadstate_activecases(x, previous):\n",
    "    \n",
    "    return pd.Series([x.event_id, previous.loc[(previous.ts <= x.ts) & (previous.ts_next >= x.ts)].ts.count()])\n",
    "    \n",
    "    \n",
    "def compute_lead_load(log, location, lead_dic, lead, load_state):\n",
    "    \"\"\"lead = 0 e.g. returns the loadstate at the most likely next location\"\"\"\n",
    "    \n",
    "    load_comp = None\n",
    "    \n",
    "    if len(lead_dic[location]) -1 >= lead:\n",
    "        print(location, '->', lead_dic[location][lead])\n",
    "        previous = log.loc[log.activity == lead_dic[location][lead]]\n",
    "    \n",
    "    else:\n",
    "        print(' {} likely next location does not exist for the location {}, return load = 0 for all events:'.format(lead, location))\n",
    "        previous = log.loc[log.activity.str.startswith('NoNextEvent')]\n",
    "    \n",
    "    target_log = log.loc[(log.activity == location)]\n",
    "    \n",
    "    if len(target_log) == 0:\n",
    "        return print('target log empty')\n",
    "    \n",
    "    if load_state == 'actcase':\n",
    "        load_comp = target_log.apply(lambda x: comp_loadstate_activecases(x, previous), axis=1)\n",
    "    \n",
    "    if load_state == 'optdur':\n",
    "        configs = get_all_configs()\n",
    "        configs = fill_na_configs(configs)\n",
    "        \n",
    "        load_comp = target_log.apply(lambda x: comp_loadstate_optdur(x, previous, configs, lead), axis=1) ##add configs here\n",
    "         \n",
    "    load_comp.columns = ['event_id', 'lead_{}_load'.format(lead+1)]\n",
    "    \n",
    "    return load_comp\n",
    "    \n",
    "def get_lead_loads(log, lead=0, load_state='actcase'):\n",
    "    \n",
    "    load_df = pd.DataFrame(columns=['event_id', 'lead_{}_load'.format(lead+1)])\n",
    "    lead_dic = get_lead_location_dict(log, lead)\n",
    "      \n",
    "    if load_state == 'actcase':\n",
    "        log = get_lead_ts(log)\n",
    "        \n",
    "    for location in tqdm(lead_dic):\n",
    "        \n",
    "        load_comp = compute_lead_load(log, location, lead_dic, lead, load_state)\n",
    "        load_df = load_df.append(load_comp)\n",
    "    \n",
    "    return log.merge(load_df, left_on='event_id', right_on='event_id')\n",
    "            "
   ]
  },
  {
   "cell_type": "code",
   "execution_count": 9,
   "metadata": {},
   "outputs": [],
   "source": [
    "log_csv = pd.read_csv('evlog.csv', sep=',')\n",
    "log_csv.drop(log_csv.columns[0], axis=1, inplace=True)\n",
    "log_csv = dataframe_utils.convert_timestamp_columns_in_df(log_csv)\n",
    "log_csv = log_csv.sort_values('ts')\n",
    "log_csv.set_index(log_csv.ts, inplace=True)"
   ]
  },
  {
   "cell_type": "code",
   "execution_count": 10,
   "metadata": {},
   "outputs": [
    {
     "data": {
      "application/vnd.jupyter.widget-view+json": {
       "model_id": "0ebf1ba811534d8da50b681ab8cbe8f9",
       "version_major": 2,
       "version_minor": 0
      },
      "text/plain": [
       "HBox(children=(FloatProgress(value=0.0, max=26.0), HTML(value='')))"
      ]
     },
     "metadata": {},
     "output_type": "display_data"
    },
    {
     "name": "stdout",
     "output_type": "stream",
     "text": [
      "W_Completeren aanvraag -> W_Completeren aanvraag\n",
      "W_Nabellen offertes -> W_Nabellen offertes\n",
      "W_Nabellen incomplete dossiers -> W_Nabellen incomplete dossiers\n",
      "W_Valideren aanvraag -> W_Nabellen incomplete dossiers\n",
      "W_Afhandelen leads -> W_Afhandelen leads\n",
      "A_SUBMITTED -> A_PARTLYSUBMITTED\n",
      "<BOS> -> A_SUBMITTED\n",
      "<EOS> -> NoLeadLocation\n",
      "A_PARTLYSUBMITTED -> A_PREACCEPTED\n",
      "A_DECLINED -> <EOS>\n",
      "A_PREACCEPTED -> W_Completeren aanvraag\n",
      "O_SELECTED -> O_CREATED\n",
      "O_CREATED -> O_SENT\n",
      "O_SENT -> W_Nabellen offertes\n",
      "A_ACCEPTED -> O_SELECTED\n",
      "A_FINALIZED -> O_CREATED\n",
      "O_CANCELLED -> O_SELECTED\n",
      "O_SENT_BACK -> W_Valideren aanvraag\n",
      "A_CANCELLED -> O_CANCELLED\n",
      "A_APPROVED -> A_ACTIVATED\n",
      "A_ACTIVATED -> W_Valideren aanvraag\n",
      "A_REGISTERED -> A_ACTIVATED\n",
      "O_ACCEPTED -> A_REGISTERED\n",
      "O_DECLINED -> A_DECLINED\n",
      "W_Beoordelen fraude -> W_Beoordelen fraude\n",
      "W_Wijzigen contractgegevens -> W_Wijzigen contractgegevens\n",
      "\n"
     ]
    }
   ],
   "source": [
    "load_log = get_lead_loads(log_csv, lead=0, load_state='optdur')"
   ]
  },
  {
   "cell_type": "code",
   "execution_count": 12,
   "metadata": {},
   "outputs": [
    {
     "name": "stdout",
     "output_type": "stream",
     "text": [
      "154.26157351217518 68.0 163.97547369819748\n"
     ]
    }
   ],
   "source": [
    "print(load_log.lead_1_load.mean(), load_log.lead_1_load.median(), load_log.lead_1_load.std())"
   ]
  },
  {
   "cell_type": "code",
   "execution_count": 8,
   "metadata": {},
   "outputs": [
    {
     "name": "stdout",
     "output_type": "stream",
     "text": [
      "154.2582340987745 68.0 163.97423537584413\n"
     ]
    }
   ],
   "source": [
    "print(load_log.lead_1_load.mean(), load_log.lead_1_load.median(), load_log.lead_1_load.std())"
   ]
  },
  {
   "cell_type": "code",
   "execution_count": null,
   "metadata": {},
   "outputs": [],
   "source": []
  }
 ],
 "metadata": {
  "kernelspec": {
   "display_name": "Python 3",
   "language": "python",
   "name": "python3"
  },
  "language_info": {
   "codemirror_mode": {
    "name": "ipython",
    "version": 3
   },
   "file_extension": ".py",
   "mimetype": "text/x-python",
   "name": "python",
   "nbconvert_exporter": "python",
   "pygments_lexer": "ipython3",
   "version": "3.7.9"
  }
 },
 "nbformat": 4,
 "nbformat_minor": 4
}
