{
 "cells": [
  {
   "cell_type": "code",
   "execution_count": null,
   "metadata": {},
   "outputs": [],
   "source": [
    "%load_ext autoreload\n",
    "%autoreload 2\n",
    "from IPython.core.display import display, HTML\n",
    "display(HTML(\"<style>.container { width:85% !important; }</style>\"))"
   ]
  },
  {
   "cell_type": "code",
   "execution_count": 46,
   "metadata": {},
   "outputs": [],
   "source": [
    "import os\n",
    "from tqdm.auto import tqdm"
   ]
  },
  {
   "cell_type": "code",
   "execution_count": 47,
   "metadata": {},
   "outputs": [],
   "source": [
    "import numpy as np\n",
    "import pandas as pd\n",
    "from pm4py.objects.log.util import dataframe_utils\n",
    "import time\n",
    "import joblib"
   ]
  },
  {
   "cell_type": "code",
   "execution_count": null,
   "metadata": {},
   "outputs": [],
   "source": [
    "os.listdir()"
   ]
  },
  {
   "cell_type": "code",
   "execution_count": 49,
   "metadata": {},
   "outputs": [],
   "source": [
    "def get_lead_ts(log):\n",
    "    \n",
    "    temp_log = log.copy()\n",
    "    temp_log = temp_log.sort_values(['case_id', 'event_id'])\n",
    "    temp_log['ts_next'] = temp_log.ts.shift(-1)\n",
    "    temp_log.loc[temp_log['activity'] == '<EOS>', 'ts_next'] = np.nan\n",
    "    \n",
    "    return log.merge(temp_log[['event_id', 'ts_next']], left_on='event_id', right_on='event_id')\n",
    "  \n",
    "\n",
    "def get_all_configs(conf_dir = 'configs/'):\n",
    "        \n",
    "    configurations = {}\n",
    "\n",
    "    for conf in os.listdir(conf_dir):\n",
    "\n",
    "        if 'configuration' in conf:\n",
    "            configurations.update(joblib.load(conf_dir + conf))\n",
    "\n",
    "    print('config keys:', list(configurations.keys()))\n",
    "    \n",
    "    return configurations\n",
    "\n",
    "def fill_na_config(configs, na_val = 60*24):\n",
    "    \n",
    "    for load_activity in list(configs.keys()):\n",
    "        #print(load_activity)\n",
    "        for key, val in zip(configs['{}'.format(load_activity)].keys(), configs['{}'.format(load_activity)].values()):\n",
    "\n",
    "            if pd.isna(val[0]):\n",
    "                configs['{}'.format(load_activity)][key] = (configs['{}'.format(load_activity)][key][0], configs['{}'.format(load_activity)][key][1], (na_val))\n",
    "                #print(key, configs['{}'.format(load_activity)][key])\n",
    "                \n",
    "    return configs\n",
    "\n",
    "def load_state_optdur(x, previous, load, configurations):\n",
    "    offset = pd.DateOffset(minutes=0)\n",
    "    diff = pd.DateOffset(minutes=configurations[load][x['activity']][2])\n",
    "    return previous.loc[(previous >= x['ts']-diff-offset) & (previous < x['ts']-offset)].count()\n",
    "\n",
    "def load_state_activecases(x, previous):\n",
    "    \n",
    "    return previous.loc[(previous.ts <= x.ts) & (previous.ts_next >= x.ts)].ts.count()    \n",
    "   \n",
    "    \n",
    "def get_load_log(log, load_log=None, load_state = 'optdur'):\n",
    "    if load_state == 'actcase':\n",
    "        log = get_lead_ts(log)\n",
    "    \n",
    "    elif load_state == 'optdur':\n",
    "        configurations = get_all_configs()\n",
    "        configurations = fill_na_config(configurations)\n",
    "        \n",
    "    else:\n",
    "        print(f'load state: {load_state}, not supported')\n",
    "        return None\n",
    "    \n",
    "    locations = joblib.load('load_locations.pickle')\n",
    "    \n",
    "    if load_log is None:\n",
    "        load_log = log.copy()\n",
    "        print('computing load for full log')\n",
    "        \n",
    "    for location in tqdm(locations):\n",
    "        \n",
    "        if load_state =='actcase':\n",
    "            previous = log.loc[log.activity == location][['ts', 'ts_next']]\n",
    "            load_comp = pd.DataFrame(load_log.apply(lambda x: load_state_activecases(x, previous), axis=1)) #this is causing the warning msg\n",
    "        \n",
    "        elif load_state == 'optdur':\n",
    "            previous = log.loc[log.activity == location, 'ts']\n",
    "            load_comp = pd.DataFrame(load_log.apply(lambda x: load_state_optdur(x, previous, location, configurations), axis=1)) #this is causing the warning msg\n",
    "\n",
    "        load_log['load_{}'.format(location)] = load_comp\n",
    "        \n",
    "    return load_log\n",
    "    \n",
    "\n",
    "    "
   ]
  },
  {
   "cell_type": "code",
   "execution_count": 55,
   "metadata": {},
   "outputs": [],
   "source": [
    "log_csv = pd.read_csv('evlog.csv', sep=',')\n",
    "log_csv.drop(log_csv.columns[0], axis=1, inplace=True)\n",
    "log_csv = dataframe_utils.convert_timestamp_columns_in_df(log_csv)\n",
    "log_csv = log_csv.sort_values('ts')\n",
    "log_csv.set_index(log_csv.ts, inplace=True)"
   ]
  },
  {
   "cell_type": "code",
   "execution_count": 56,
   "metadata": {},
   "outputs": [],
   "source": [
    "load_log = log_csv[log_csv.case_id.isin(list(np.random.choice(log_csv.case_id.unique(), size=1, replace=False )))]"
   ]
  },
  {
   "cell_type": "code",
   "execution_count": null,
   "metadata": {},
   "outputs": [],
   "source": [
    "load_log = get_load_log(log=log_csv, load_log=load_log, load_state='actcase')"
   ]
  },
  {
   "cell_type": "code",
   "execution_count": null,
   "metadata": {},
   "outputs": [],
   "source": []
  }
 ],
 "metadata": {
  "kernelspec": {
   "display_name": "Python 3",
   "language": "python",
   "name": "python3"
  },
  "language_info": {
   "codemirror_mode": {
    "name": "ipython",
    "version": 3
   },
   "file_extension": ".py",
   "mimetype": "text/x-python",
   "name": "python",
   "nbconvert_exporter": "python",
   "pygments_lexer": "ipython3",
   "version": "3.7.9"
  }
 },
 "nbformat": 4,
 "nbformat_minor": 4
}
