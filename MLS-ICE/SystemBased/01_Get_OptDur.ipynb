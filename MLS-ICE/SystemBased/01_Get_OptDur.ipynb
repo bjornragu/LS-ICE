{
 "cells": [
  {
   "cell_type": "code",
   "execution_count": null,
   "metadata": {},
   "outputs": [],
   "source": [
    "%load_ext autoreload\n",
    "%autoreload 2\n",
    "from IPython.core.display import display, HTML\n",
    "display(HTML(\"<style>.container { width:85% !important; }</style>\"))"
   ]
  },
  {
   "cell_type": "code",
   "execution_count": null,
   "metadata": {},
   "outputs": [],
   "source": [
    "import os\n",
    "import joblib\n",
    "\n",
    "import math \n",
    "import pandas as pd\n",
    "import numpy as np\n",
    "import datetime as dt\n",
    "from pm4py.objects.log.util import dataframe_utils\n",
    "\n",
    "from tqdm.auto import tqdm\n",
    "import time\n",
    "\n",
    "from sklearn.ensemble import RandomForestRegressor\n"
   ]
  },
  {
   "cell_type": "code",
   "execution_count": null,
   "metadata": {},
   "outputs": [],
   "source": [
    "def get_rf_relation(target_log, load, depth = 3,  threshold = 50):\n",
    "    remtimes, loads = target_log.align(load, join='inner', copy=False)\n",
    "    \n",
    "    if len(loads) > threshold:\n",
    "        lr = RandomForestRegressor(max_depth=depth).fit(np.array(loads).reshape(-1,1), remtimes)\n",
    "        r2 = lr.score(np.array(loads).reshape(-1,1), remtimes)\n",
    "    \n",
    "    else:\n",
    "        r2 = np.nan\n",
    "\n",
    "    return r2\n",
    "\n",
    "\n",
    "def get_location_config(log, location, threshold = 50):\n",
    "    \n",
    "    all_activities = log.activity.value_counts().index\n",
    "    dur_range_dic = joblib.load('dur_range_dic.pickle')\n",
    "    \n",
    "    duration_range = dur_range_dic[location]\n",
    "    \n",
    "    config = {}\n",
    "        \n",
    "    for target_activity in tqdm(all_activities):\n",
    "            \n",
    "        if (target_activity == '<EOS>'):\n",
    "            config[target_activity] = (np.nan, 0, np.nan)\n",
    "            continue\n",
    "        \n",
    "        target_log = log.loc[log.activity == target_activity, ].remtime\n",
    "        \n",
    "        if len(target_log) <= threshold:\n",
    "            config[target_activity] = (np.nan, 0, duration_range[0])    \n",
    "        else:\n",
    "            offset = 0\n",
    "            best = None\n",
    "\n",
    "            for diff in duration_range:\n",
    "                load = log.loc[log.activity == location, ]\\\n",
    "                        .groupby(['ts']).count().asfreq('1S')\\\n",
    "                        .shift(1, freq=pd.DateOffset(hours=offset))\\\n",
    "                        .rolling(f\"{diff}min\").count()['ts_col']\n",
    "\n",
    "                relation = get_rf_relation(target_log, load, depth = 3)\n",
    "                if best is None or relation > best[0]:\n",
    "                    best = (relation, offset, diff)\n",
    "\n",
    "            config[target_activity] = best\n",
    "\n",
    "    return config\n",
    "    \n",
    "\n",
    "def get_configurations(log):\n",
    "    \n",
    "    locations = joblib.load('load_locations.pickle')\n",
    "    \n",
    "    configurations = {}\n",
    "    for location in tqdm(locations):\n",
    "        print(location)\n",
    "        \n",
    "        configurations[location] = get_location_config(log, location)\n",
    "            \n",
    "    return configurations\n"
   ]
  },
  {
   "cell_type": "code",
   "execution_count": null,
   "metadata": {},
   "outputs": [],
   "source": [
    "log_csv = pd.read_csv('evlog.csv', sep=',')\n",
    "log_csv.ts = log_csv.ts.apply(lambda x: x[:-4])\n",
    "log_csv.drop(log_csv.columns[0], axis=1, inplace=True)\n",
    "log_csv = dataframe_utils.convert_timestamp_columns_in_df(log_csv)\n",
    "log_csv = log_csv.sort_values('ts')\n",
    "log_csv.set_index(log_csv.ts, inplace=True)\n",
    "log_csv = log_csv.rename(columns={'ts':'ts_col'})"
   ]
  },
  {
   "cell_type": "code",
   "execution_count": null,
   "metadata": {},
   "outputs": [],
   "source": [
    "configurations = get_configurations(log_csv)"
   ]
  },
  {
   "cell_type": "code",
   "execution_count": null,
   "metadata": {},
   "outputs": [],
   "source": []
  }
 ],
 "metadata": {
  "kernelspec": {
   "display_name": "Python 3",
   "language": "python",
   "name": "python3"
  },
  "language_info": {
   "codemirror_mode": {
    "name": "ipython",
    "version": 3
   },
   "file_extension": ".py",
   "mimetype": "text/x-python",
   "name": "python",
   "nbconvert_exporter": "python",
   "pygments_lexer": "ipython3",
   "version": "3.7.9"
  }
 },
 "nbformat": 4,
 "nbformat_minor": 4
}
