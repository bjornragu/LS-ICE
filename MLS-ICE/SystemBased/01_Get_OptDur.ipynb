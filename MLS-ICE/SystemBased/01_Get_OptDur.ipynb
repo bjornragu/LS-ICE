{
 "cells": [
  {
   "cell_type": "code",
   "execution_count": 1,
   "metadata": {},
   "outputs": [
    {
     "data": {
      "text/html": [
       "<style>.container { width:85% !important; }</style>"
      ],
      "text/plain": [
       "<IPython.core.display.HTML object>"
      ]
     },
     "metadata": {},
     "output_type": "display_data"
    }
   ],
   "source": [
    "%load_ext autoreload\n",
    "%autoreload 2\n",
    "from IPython.core.display import display, HTML\n",
    "display(HTML(\"<style>.container { width:85% !important; }</style>\"))"
   ]
  },
  {
   "cell_type": "code",
   "execution_count": 2,
   "metadata": {},
   "outputs": [],
   "source": [
    "import os\n",
    "import joblib\n",
    "\n",
    "import math \n",
    "import pandas as pd\n",
    "import numpy as np\n",
    "import datetime as dt\n",
    "from pm4py.objects.log.util import dataframe_utils\n",
    "\n",
    "from tqdm.auto import tqdm\n",
    "import time\n",
    "\n",
    "from sklearn.ensemble import RandomForestRegressor\n"
   ]
  },
  {
   "cell_type": "code",
   "execution_count": 3,
   "metadata": {},
   "outputs": [
    {
     "data": {
      "text/plain": [
       "['.ipynb_checkpoints',\n",
       " '01_Get_config-done_checked.ipynb',\n",
       " '02_Comp_load-combined-done-checked.ipynb',\n",
       " 'configs',\n",
       " 'dur_range_dic.pickle',\n",
       " 'evlog.csv',\n",
       " 'get_dur_range_dic.ipynb',\n",
       " 'get_load_locations_done.ipynb',\n",
       " 'load_locations.pickle',\n",
       " 'old_scripts']"
      ]
     },
     "execution_count": 3,
     "metadata": {},
     "output_type": "execute_result"
    }
   ],
   "source": [
    "os.listdir()"
   ]
  },
  {
   "cell_type": "code",
   "execution_count": 4,
   "metadata": {},
   "outputs": [],
   "source": [
    "#probably no need to include this - just illustrating how the framework works\n",
    "\n",
    "def get_train_test(log, train_path, valid_path, index):\n",
    "    \n",
    "    data_train = pd.read_csv(train_path, index_col=index)\n",
    "    data_valid = pd.read_csv(valid_path, index_col=index)\n",
    "    \n",
    "    evlog_train = log[log.case_id.isin(data_train.append(data_valid).index)]\n",
    "    \n",
    "    return evlog_train\n",
    "\n",
    "\n",
    "#def get_train_test(log):\n",
    "    \n",
    "#    data_train = pd.read_csv('D:/Users/u0126338/Desktop/IC-feat/Exp_291221/BPIC12/data/data_train_ind.csv', index_col = 'CaseID')\n",
    "#    data_valid = pd.read_csv('D:/Users/u0126338/Desktop/IC-feat/Exp_291221/BPIC12/data/data_valid_ind.csv', index_col = 'CaseID')\n",
    "\n",
    "#    evlog_train = log[log.case_id.isin(data_train.append(data_valid).index)]\n",
    "    \n",
    "#    return evlog_train"
   ]
  },
  {
   "cell_type": "code",
   "execution_count": 5,
   "metadata": {},
   "outputs": [],
   "source": [
    "\n",
    "def get_rf_relation(target_log, load, depth = 3,  threshold = 50):\n",
    "    remtimes, loads = target_log.align(load, join='inner', copy=False)\n",
    "    \n",
    "    if len(loads) > threshold:\n",
    "        lr = RandomForestRegressor(max_depth=depth).fit(np.array(loads).reshape(-1,1), remtimes)\n",
    "        r2 = lr.score(np.array(loads).reshape(-1,1), remtimes)\n",
    "    \n",
    "    else:\n",
    "        r2 = np.nan\n",
    "\n",
    "    return r2\n",
    "\n",
    "\n",
    "def get_location_config(log, location, threshold = 50):\n",
    "    \n",
    "    \"\"\"Takes as input an event log, name of location of interest and the range of candidate durations for that location\n",
    "    returns an optimal duration for that location. Can run seperately for all locations of interest\"\"\"\n",
    "    \n",
    "    all_activities = log.activity.value_counts().index\n",
    "    dur_range_dic = joblib.load('dur_range_dic.pickle')\n",
    "    \n",
    "    duration_range = dur_range_dic[location]\n",
    "    \n",
    "    config = {}\n",
    "        \n",
    "    for target_activity in tqdm(all_activities):\n",
    "            \n",
    "        if (target_activity == '<EOS>'):\n",
    "            config[target_activity] = (np.nan, 0, np.nan)\n",
    "            continue\n",
    "        \n",
    "        target_log = log.loc[log.activity == target_activity, ].remtime\n",
    "        \n",
    "        if len(target_log) <= threshold:\n",
    "            config[load_location] = (np.nan, 0, duration_range[0])    \n",
    "        else:\n",
    "            offset = 0\n",
    "            best = None\n",
    "\n",
    "            for diff in duration_range:\n",
    "                load = log.loc[log.activity == location, ]\\\n",
    "                        .groupby(['ts']).count().asfreq('1S')\\\n",
    "                        .shift(1, freq=pd.DateOffset(hours=offset))\\\n",
    "                        .rolling(f\"{diff}min\").count()['ts_col']\n",
    "\n",
    "                relation = get_rf_relation(target_log, load, depth = 3)\n",
    "                if best is None or relation > best[0]:\n",
    "                    best = (relation, offset, diff)\n",
    "\n",
    "            config[target_activity] = best\n",
    "\n",
    "    return config\n",
    "    \n",
    "\n",
    "def get_configurations(log):\n",
    "    \n",
    "    locations = joblib.load('load_locations.pickle')\n",
    "    \n",
    "    configurations = {}\n",
    "    for location in tqdm(locations):\n",
    "        print(location)\n",
    "        \n",
    "        configurations[location] = get_location_config(log, location)\n",
    "            \n",
    "    return configurations\n"
   ]
  },
  {
   "cell_type": "code",
   "execution_count": 6,
   "metadata": {},
   "outputs": [],
   "source": [
    "log_csv = pd.read_csv('evlog.csv', sep=',')\n",
    "log_csv.ts = log_csv.ts.apply(lambda x: x[:-4])\n",
    "log_csv.drop(log_csv.columns[0], axis=1, inplace=True)\n",
    "log_csv = dataframe_utils.convert_timestamp_columns_in_df(log_csv)\n",
    "log_csv  = get_train_test(log_csv, \n",
    "                          train_path='D:/Users/u0126338/Desktop/IC-feat/Exp_291221/BPIC12/data/data_train_ind.csv',\n",
    "                          valid_path='D:/Users/u0126338/Desktop/IC-feat/Exp_291221/BPIC12/data/data_valid_ind.csv',\n",
    "                          index='CaseID')\n",
    "\n",
    "log_csv = log_csv.sort_values('ts')\n",
    "log_csv.set_index(log_csv.ts, inplace=True)\n",
    "log_csv = log_csv.rename(columns={'ts':'ts_col'})"
   ]
  },
  {
   "cell_type": "code",
   "execution_count": 7,
   "metadata": {},
   "outputs": [],
   "source": [
    "#log_csv = log_csv.sample(frac=0.1)"
   ]
  },
  {
   "cell_type": "code",
   "execution_count": 8,
   "metadata": {},
   "outputs": [
    {
     "data": {
      "application/vnd.jupyter.widget-view+json": {
       "model_id": "88850da2216f4801a9d71c2ba6f5a579",
       "version_major": 2,
       "version_minor": 0
      },
      "text/plain": [
       "HBox(children=(FloatProgress(value=0.0, max=5.0), HTML(value='')))"
      ]
     },
     "metadata": {},
     "output_type": "display_data"
    },
    {
     "name": "stdout",
     "output_type": "stream",
     "text": [
      "W_Completeren aanvraag\n"
     ]
    },
    {
     "data": {
      "application/vnd.jupyter.widget-view+json": {
       "model_id": "22d16fe3fc734a55b8abb133823d4016",
       "version_major": 2,
       "version_minor": 0
      },
      "text/plain": [
       "HBox(children=(FloatProgress(value=0.0, max=26.0), HTML(value='')))"
      ]
     },
     "metadata": {},
     "output_type": "display_data"
    },
    {
     "name": "stdout",
     "output_type": "stream",
     "text": [
      "\n",
      "\n"
     ]
    },
    {
     "ename": "NameError",
     "evalue": "name 'load_location' is not defined",
     "output_type": "error",
     "traceback": [
      "\u001b[1;31m---------------------------------------------------------------------------\u001b[0m",
      "\u001b[1;31mNameError\u001b[0m                                 Traceback (most recent call last)",
      "\u001b[1;32m<ipython-input-8-24c1afe1ea63>\u001b[0m in \u001b[0;36m<module>\u001b[1;34m\u001b[0m\n\u001b[1;32m----> 1\u001b[1;33m \u001b[0mconfigurations\u001b[0m \u001b[1;33m=\u001b[0m \u001b[0mget_configurations\u001b[0m\u001b[1;33m(\u001b[0m\u001b[0mlog_csv\u001b[0m\u001b[1;33m)\u001b[0m\u001b[1;33m\u001b[0m\u001b[1;33m\u001b[0m\u001b[0m\n\u001b[0m",
      "\u001b[1;32m<ipython-input-5-1b84cffca325>\u001b[0m in \u001b[0;36mget_configurations\u001b[1;34m(log)\u001b[0m\n\u001b[0;32m     61\u001b[0m         \u001b[0mprint\u001b[0m\u001b[1;33m(\u001b[0m\u001b[0mlocation\u001b[0m\u001b[1;33m)\u001b[0m\u001b[1;33m\u001b[0m\u001b[1;33m\u001b[0m\u001b[0m\n\u001b[0;32m     62\u001b[0m \u001b[1;33m\u001b[0m\u001b[0m\n\u001b[1;32m---> 63\u001b[1;33m         \u001b[0mconfigurations\u001b[0m\u001b[1;33m[\u001b[0m\u001b[0mlocation\u001b[0m\u001b[1;33m]\u001b[0m \u001b[1;33m=\u001b[0m \u001b[0mget_location_config\u001b[0m\u001b[1;33m(\u001b[0m\u001b[0mlog\u001b[0m\u001b[1;33m,\u001b[0m \u001b[0mlocation\u001b[0m\u001b[1;33m)\u001b[0m\u001b[1;33m\u001b[0m\u001b[1;33m\u001b[0m\u001b[0m\n\u001b[0m\u001b[0;32m     64\u001b[0m \u001b[1;33m\u001b[0m\u001b[0m\n\u001b[0;32m     65\u001b[0m     \u001b[1;32mreturn\u001b[0m \u001b[0mconfigurations\u001b[0m\u001b[1;33m\u001b[0m\u001b[1;33m\u001b[0m\u001b[0m\n",
      "\u001b[1;32m<ipython-input-5-1b84cffca325>\u001b[0m in \u001b[0;36mget_location_config\u001b[1;34m(log, location, threshold)\u001b[0m\n\u001b[0;32m     33\u001b[0m \u001b[1;33m\u001b[0m\u001b[0m\n\u001b[0;32m     34\u001b[0m         \u001b[1;32mif\u001b[0m \u001b[0mlen\u001b[0m\u001b[1;33m(\u001b[0m\u001b[0mtarget_log\u001b[0m\u001b[1;33m)\u001b[0m \u001b[1;33m<=\u001b[0m \u001b[0mthreshold\u001b[0m\u001b[1;33m:\u001b[0m\u001b[1;33m\u001b[0m\u001b[1;33m\u001b[0m\u001b[0m\n\u001b[1;32m---> 35\u001b[1;33m             \u001b[0mconfig\u001b[0m\u001b[1;33m[\u001b[0m\u001b[0mload_location\u001b[0m\u001b[1;33m]\u001b[0m \u001b[1;33m=\u001b[0m \u001b[1;33m(\u001b[0m\u001b[0mnp\u001b[0m\u001b[1;33m.\u001b[0m\u001b[0mnan\u001b[0m\u001b[1;33m,\u001b[0m \u001b[1;36m0\u001b[0m\u001b[1;33m,\u001b[0m \u001b[0mduration_range\u001b[0m\u001b[1;33m[\u001b[0m\u001b[1;36m0\u001b[0m\u001b[1;33m]\u001b[0m\u001b[1;33m)\u001b[0m\u001b[1;33m\u001b[0m\u001b[1;33m\u001b[0m\u001b[0m\n\u001b[0m\u001b[0;32m     36\u001b[0m         \u001b[1;32melse\u001b[0m\u001b[1;33m:\u001b[0m\u001b[1;33m\u001b[0m\u001b[1;33m\u001b[0m\u001b[0m\n\u001b[0;32m     37\u001b[0m             \u001b[0moffset\u001b[0m \u001b[1;33m=\u001b[0m \u001b[1;36m0\u001b[0m\u001b[1;33m\u001b[0m\u001b[1;33m\u001b[0m\u001b[0m\n",
      "\u001b[1;31mNameError\u001b[0m: name 'load_location' is not defined"
     ]
    }
   ],
   "source": [
    "configurations = get_configurations(log_csv)"
   ]
  },
  {
   "cell_type": "code",
   "execution_count": null,
   "metadata": {},
   "outputs": [],
   "source": [
    "configurations['W_Completeren aanvraag']"
   ]
  },
  {
   "cell_type": "code",
   "execution_count": null,
   "metadata": {},
   "outputs": [],
   "source": [
    "#compare obtained configs to the once previously obtained - should be pretty much the same"
   ]
  },
  {
   "cell_type": "code",
   "execution_count": 16,
   "metadata": {},
   "outputs": [
    {
     "name": "stdout",
     "output_type": "stream",
     "text": [
      "config keys: ['W_Afhandelen leads', 'W_Completeren aanvraag', 'W_Nabellen incomplete dossiers', 'W_Nabellen offertes', 'W_Valideren aanvraag']\n"
     ]
    }
   ],
   "source": [
    "def get_all_configs(conf_dir = 'D:/Users/u0126338/Desktop/IC-feat/Exp_230622_gc/BPIC12/opt_dur/scripts/01_get_config/configs/'):\n",
    "        \n",
    "    configurations = {}\n",
    "\n",
    "    for conf in os.listdir(conf_dir):\n",
    "\n",
    "        if 'configuration' in conf:\n",
    "            configurations.update(joblib.load(conf_dir + conf))\n",
    "\n",
    "    print('config keys:', list(configurations.keys()))\n",
    "    \n",
    "    return configurations\n",
    "\n",
    "configurations_old = get_all_configs()"
   ]
  },
  {
   "cell_type": "code",
   "execution_count": 17,
   "metadata": {},
   "outputs": [
    {
     "data": {
      "text/plain": [
       "{'W_Completeren aanvraag': (0.027214634563959006, 0, 1155),\n",
       " 'W_Nabellen offertes': (0.05266604907878969, 0, 315),\n",
       " 'W_Nabellen incomplete dossiers': (0.017465628853784554, 0, 1155),\n",
       " 'W_Valideren aanvraag': (0.018471341689597187, 0, 945),\n",
       " 'W_Afhandelen leads': (0.013920642308963949, 0, 645),\n",
       " '<BOS>': (0.02042672425192049, 0, 1125),\n",
       " 'A_PARTLYSUBMITTED': (0.02045013028479037, 0, 1125),\n",
       " '<EOS>': (1.0, 0, 15),\n",
       " 'A_SUBMITTED': (0.020721609853783796, 0, 1125),\n",
       " 'A_DECLINED': (0.04911199067722083, 0, 555),\n",
       " 'A_PREACCEPTED': (0.02826687338089673, 0, 1095),\n",
       " 'O_SENT': (0.03907995802519071, 0, 1155),\n",
       " 'O_CREATED': (0.039099115112104066, 0, 1155),\n",
       " 'O_SELECTED': (0.03884322830124154, 0, 1155),\n",
       " 'A_ACCEPTED': (0.030246094594274076, 0, 1125),\n",
       " 'A_FINALIZED': (0.031369569779323814, 0, 1125),\n",
       " 'O_CANCELLED': (0.11674144220529203, 0, 255),\n",
       " 'O_SENT_BACK': (0.0403918567461361, 0, 1065),\n",
       " 'A_CANCELLED': (0.13389714377732187, 0, 1005),\n",
       " 'A_REGISTERED': (0.42124633561210656, 0, 885),\n",
       " 'A_ACTIVATED': (0.41934283547422635, 0, 885),\n",
       " 'A_APPROVED': (0.41941837906020263, 0, 885),\n",
       " 'O_ACCEPTED': (0.4584070932131923, 0, 885),\n",
       " 'O_DECLINED': (0.7070743925811457, 0, 645),\n",
       " 'W_Beoordelen fraude': (0.3443232344709587, 0, 645),\n",
       " 'W_Wijzigen contractgegevens': (nan, 0, 15)}"
      ]
     },
     "execution_count": 17,
     "metadata": {},
     "output_type": "execute_result"
    }
   ],
   "source": [
    "configurations_old['W_Completeren aanvraag']"
   ]
  },
  {
   "cell_type": "code",
   "execution_count": null,
   "metadata": {},
   "outputs": [],
   "source": []
  }
 ],
 "metadata": {
  "kernelspec": {
   "display_name": "Python 3",
   "language": "python",
   "name": "python3"
  },
  "language_info": {
   "codemirror_mode": {
    "name": "ipython",
    "version": 3
   },
   "file_extension": ".py",
   "mimetype": "text/x-python",
   "name": "python",
   "nbconvert_exporter": "python",
   "pygments_lexer": "ipython3",
   "version": "3.7.9"
  }
 },
 "nbformat": 4,
 "nbformat_minor": 4
}
