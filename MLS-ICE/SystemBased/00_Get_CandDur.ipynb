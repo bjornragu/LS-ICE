{
 "cells": [
  {
   "cell_type": "code",
   "execution_count": 1,
   "metadata": {},
   "outputs": [],
   "source": [
    "import os\n",
    "import time\n",
    "import joblib\n",
    "\n",
    "import pandas as pd\n",
    "import numpy as np\n",
    "import datetime as dt\n",
    "from pm4py.objects.log.util import dataframe_utils"
   ]
  },
  {
   "cell_type": "code",
   "execution_count": 12,
   "metadata": {
    "collapsed": true
   },
   "outputs": [],
   "source": [
    "def get_train_test(log):\n",
    "    \n",
    "    data_train = pd.read_csv('', index_col = 'CaseID')\n",
    "    data_valid = pd.read_csv('', index_col = 'CaseID')\n",
    "\n",
    "    evlog_train = log[log.case_id.isin(data_train.append(data_valid).index)]\n",
    "    \n",
    "    return evlog_train\n",
    "\n",
    "def get_lead_ts(log):\n",
    "    \n",
    "    temp_log = log.copy()\n",
    "    temp_log = temp_log.sort_values(['case_id', 'event_id'])\n",
    "    temp_log['ts_next'] = temp_log.ts.shift(-1)\n",
    "    temp_log.loc[temp_log['activity'] == '<EOS>', 'ts_next'] = np.nan\n",
    "    \n",
    "    return log_csv.merge(temp_log[['event_id', 'ts_next']], left_on='event_id', right_on='event_id')\n",
    "\n",
    "def get_proc_time(merge):\n",
    "    \n",
    "    return merge.apply(lambda x: (x.ts_next - x.ts).seconds, axis=1)\n",
    "\n",
    "def get_throughp_act(log, act, time_unit = 'minute'):\n",
    "\n",
    "    proc_time = get_proc_time(log)\n",
    "    \n",
    "    if time_unit == 'second':\n",
    "        print(f'{act} - average proctime {round(proc_time.mean(),2)} and median proctime {round(proc_time.median(),2)} seconds')\n",
    "    \n",
    "    elif time_unit == 'minute':\n",
    "        proc_time = proc_time/60\n",
    "        print(f'{act} - average proctime {round(proc_time.mean(),2)} and median proctime {round(proc_time.median(),2)} minutes')\n",
    "    \n",
    "    elif time_unit == 'hour':\n",
    "        proc_time = proc_time/3600\n",
    "        print(f'{act} - average proctime {round(proc_time.mean(),2)} and median proctime {round(proc_time.median(),2)} hours')\n",
    "        \n",
    "    else:\n",
    "        print('time unit not available, choose second, minute, hour')\n",
    "        \n",
    "    return proc_time\n",
    "\n",
    "def myround(x, base=5):\n",
    "    return base * round(x/base)\n",
    "\n",
    "def get_dur_range(log, act='W_Completeren aanvraag', time_unit='minutes', base=15, step=30, quantile=0.95):\n",
    "    \n",
    "    \n",
    "    proc_times = get_throughp_act(log[log.activity == act], act, time_unit='minute')\n",
    "    print(len(proc_times))\n",
    "    round_median = myround(np.median(proc_times), base)\n",
    "    if round_median == 0:\n",
    "        round_median = base\n",
    "        \n",
    "    round_quantile = myround(np.quantile(proc_times, q = 0.95), base)\n",
    "    if round_quantile == 0:\n",
    "        round_quantile = base\n",
    "    \n",
    "    duration_range = range(round_median, round_quantile+step, step)\n",
    "    print('duration search range:', duration_range, 'length:', len(duration_range))\n",
    "    \n",
    "    return duration_range\n",
    "\n",
    "def get_duration_range_dic(log):\n",
    "    \n",
    "    dur_range_dic = {}\n",
    "    for load in [col for col in log_csv.activity.value_counts().index if ('<EOS>' not in col) &  ('<BOS>' not in col)]:\n",
    "        dur_range = get_dur_range(log, load, 'minutes', 15, 30, 0.95) \n",
    "    \n",
    "        if (dur_range != range(15, 45, 30)):\n",
    "            dur_range_dic[load] = dur_range\n",
    "\n",
    "        else:\n",
    "            dur_range_dic[load] = range(15, 300, 30)\n",
    "            \n",
    "    return dur_range_dic\n",
    "        "
   ]
  },
  {
   "cell_type": "code",
   "execution_count": 13,
   "metadata": {
    "collapsed": true
   },
   "outputs": [],
   "source": [
    "log_csv = pd.read_csv('evlog.csv', sep=',')\n",
    "log_csv.ts = log_csv.ts.apply(lambda x: x[:-4]) #need to add this for some reason - otherwise search doesnt work\n",
    "log_csv.drop(log_csv.columns[0], axis=1, inplace=True)\n",
    "log_csv = dataframe_utils.convert_timestamp_columns_in_df(log_csv)\n",
    "#log_csv = get_train_test(log_csv)"
   ]
  },
  {
   "cell_type": "code",
   "execution_count": 14,
   "metadata": {
    "collapsed": true
   },
   "outputs": [
    {
     "data": {
      "text/plain": [
       "(288374, 6)"
      ]
     },
     "execution_count": 14,
     "metadata": {},
     "output_type": "execute_result"
    }
   ],
   "source": [
    "log_csv.shape"
   ]
  },
  {
   "cell_type": "code",
   "execution_count": 15,
   "metadata": {
    "collapsed": true
   },
   "outputs": [
    {
     "name": "stdout",
     "output_type": "stream",
     "text": [
      "W_Completeren aanvraag - average proctime 189.72 and median proctime 5.22 minutes\n",
      "54850\n",
      "duration search range: range(15, 1215, 30) length: 40\n",
      "W_Nabellen offertes - average proctime 243.56 and median proctime 2.62 minutes\n",
      "52016\n",
      "duration search range: range(15, 1350, 30) length: 45\n",
      "W_Nabellen incomplete dossiers - average proctime 166.66 and median proctime 5.35 minutes\n",
      "25190\n",
      "duration search range: range(15, 1155, 30) length: 38\n",
      "W_Valideren aanvraag - average proctime 50.17 and median proctime 2.45 minutes\n",
      "20809\n",
      "duration search range: range(15, 225, 30) length: 7\n",
      "W_Afhandelen leads - average proctime 114.11 and median proctime 3.43 minutes\n",
      "16566\n",
      "duration search range: range(15, 795, 30) length: 26\n",
      "A_PARTLYSUBMITTED - average proctime 0.58 and median proctime 0.62 minutes\n",
      "13087\n",
      "duration search range: range(15, 45, 30) length: 1\n",
      "A_SUBMITTED - average proctime 0.01 and median proctime 0.0 minutes\n",
      "13087\n",
      "duration search range: range(15, 45, 30) length: 1\n",
      "A_DECLINED - average proctime 0.03 and median proctime 0.03 minutes\n",
      "7635\n",
      "duration search range: range(15, 45, 30) length: 1\n",
      "A_PREACCEPTED - average proctime 0.01 and median proctime 0.0 minutes\n",
      "7367\n",
      "duration search range: range(15, 45, 30) length: 1\n",
      "O_SENT - average proctime 0.0 and median proctime 0.0 minutes\n",
      "7030\n",
      "duration search range: range(15, 45, 30) length: 1\n",
      "O_CREATED - average proctime 0.0 and median proctime 0.0 minutes\n",
      "7030\n",
      "duration search range: range(15, 45, 30) length: 1\n",
      "O_SELECTED - average proctime 0.04 and median proctime 0.0 minutes\n",
      "7030\n",
      "duration search range: range(15, 45, 30) length: 1\n",
      "A_ACCEPTED - average proctime 3.8 and median proctime 3.05 minutes\n",
      "5113\n",
      "duration search range: range(15, 45, 30) length: 1\n",
      "A_FINALIZED - average proctime 0.04 and median proctime 0.02 minutes\n",
      "5015\n",
      "duration search range: range(15, 45, 30) length: 1\n",
      "O_CANCELLED - average proctime 0.37 and median proctime 0.0 minutes\n",
      "3655\n",
      "duration search range: range(15, 45, 30) length: 1\n",
      "O_SENT_BACK - average proctime 0.01 and median proctime 0.0 minutes\n",
      "3454\n",
      "duration search range: range(15, 45, 30) length: 1\n",
      "A_CANCELLED - average proctime 0.47 and median proctime 0.0 minutes\n",
      "2807\n",
      "duration search range: range(15, 45, 30) length: 1\n",
      "A_REGISTERED - average proctime 0.05 and median proctime 0.0 minutes\n",
      "2246\n",
      "duration search range: range(15, 45, 30) length: 1\n",
      "A_ACTIVATED - average proctime 0.06 and median proctime 0.0 minutes\n",
      "2246\n",
      "duration search range: range(15, 45, 30) length: 1\n",
      "A_APPROVED - average proctime 0.05 and median proctime 0.0 minutes\n",
      "2246\n",
      "duration search range: range(15, 45, 30) length: 1\n",
      "O_ACCEPTED - average proctime 0.01 and median proctime 0.0 minutes\n",
      "2243\n",
      "duration search range: range(15, 45, 30) length: 1\n",
      "O_DECLINED - average proctime 0.03 and median proctime 0.0 minutes\n",
      "802\n",
      "duration search range: range(15, 45, 30) length: 1\n",
      "W_Beoordelen fraude - average proctime 139.24 and median proctime 0.25 minutes\n",
      "664\n",
      "duration search range: range(15, 1140, 30) length: 38\n",
      "W_Wijzigen contractgegevens - average proctime 30.34 and median proctime 0.17 minutes\n",
      "12\n",
      "duration search range: range(15, 210, 30) length: 7\n"
     ]
    }
   ],
   "source": [
    "log_csv = get_lead_ts(log_csv)\n",
    "duration_dic = get_duration_range_dic(log_csv)\n",
    "duration_dic['<EOS>'] = range(15, 300, 30)\n",
    "duration_dic['<BOS>'] = range(15, 300, 30)"
   ]
  },
  {
   "cell_type": "code",
   "execution_count": 17,
   "metadata": {
    "collapsed": true
   },
   "outputs": [
    {
     "data": {
      "text/plain": [
       "['dur_range_dic.pickle']"
      ]
     },
     "execution_count": 17,
     "metadata": {},
     "output_type": "execute_result"
    }
   ],
   "source": [
    "joblib.dump(duration_dic, \"dur_range_dic.pickle\")\n"
   ]
  },
  {
   "cell_type": "code",
   "execution_count": null,
   "metadata": {
    "collapsed": true
   },
   "outputs": [],
   "source": []
  }
 ],
 "metadata": {
  "kernelspec": {
   "display_name": "Python 3",
   "language": "python",
   "name": "python3"
  },
  "language_info": {
   "codemirror_mode": {
    "name": "ipython",
    "version": 3
   },
   "file_extension": ".py",
   "mimetype": "text/x-python",
   "name": "python",
   "nbconvert_exporter": "python",
   "pygments_lexer": "ipython3",
   "version": "3.7.9"
  }
 },
 "nbformat": 4,
 "nbformat_minor": 4
}
