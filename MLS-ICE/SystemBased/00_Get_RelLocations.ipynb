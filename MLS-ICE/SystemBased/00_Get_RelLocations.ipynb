{
 "cells": [
  {
   "cell_type": "code",
   "execution_count": 1,
   "metadata": {
    "collapsed": true
   },
   "outputs": [],
   "source": [
    "import os\n",
    "import time\n",
    "import joblib\n",
    "\n",
    "import pandas as pd\n",
    "import numpy as np\n",
    "import datetime as dt\n",
    "from pm4py.objects.log.util import dataframe_utils"
   ]
  },
  {
   "cell_type": "code",
   "execution_count": 12,
   "metadata": {
    "collapsed": true
   },
   "outputs": [],
   "source": [
    "def get_lead_ts(log_csv):\n",
    "    \n",
    "    temp_log = log_csv.copy()\n",
    "    temp_log = temp_log.sort_values(['case_id', 'event_id'])\n",
    "    temp_log['ts_next'] = temp_log.ts.shift(-1)\n",
    "    temp_log.loc[temp_log['activity'] == '<EOS>', 'ts_next'] = np.nan\n",
    "    \n",
    "    return log_csv.merge(temp_log[['event_id', 'ts_next']], left_on='event_id', right_on='event_id')\n",
    "    \n",
    "\n",
    "def get_proc_time(merge):\n",
    "    \n",
    "    return merge.apply(lambda x: (x.ts_next - x.ts).seconds, axis=1)\n",
    "\n",
    "\n",
    "def get_throughp(log, act, time_unit = 'second'):\n",
    "\n",
    "    proc_time = get_proc_time(log[log.activity == act])\n",
    "    \n",
    "    if time_unit == 'second':\n",
    "        print(f'{act} - average proctime {round(proc_time.mean(),2)} and median proctime {round(proc_time.median(),2)} seconds')\n",
    "    \n",
    "    elif time_unit == 'minute':\n",
    "        proc_time = proc_time/60\n",
    "        print(f'{act} - average proctime {round(proc_time.mean(),2)} and median proctime {round(proc_time.median(),2)} minutes')\n",
    "    \n",
    "    elif time_unit == 'hour':\n",
    "        proc_time = proc_time/3600\n",
    "        print(f'{act} - average proctime {round(proc_time.mean(),2)} and median proctime {round(proc_time.median(),2)} hours')\n",
    "        \n",
    "    else:\n",
    "        print('time unit not available, choose second, minute, hour')\n",
    "        \n",
    "    return proc_time\n",
    "\n",
    "def get_locations(log, thresh_time = 5, thresh_freq = 0.01, time_unit = 'minute'):\n",
    "    \n",
    "    load_locations = []\n",
    "    total = len(log_csv)\n",
    "    \n",
    "    for load, freq in zip(log.activity.value_counts().index, log.activity.value_counts()):\n",
    "        \n",
    "        if (load == '<EOS>') | (load == '<BOS>'):\n",
    "            continue\n",
    "    \n",
    "        dur = get_throughp(log, load, time_unit)\n",
    "        \n",
    "        if np.mean(dur) < thresh_time:\n",
    "            print('auto')\n",
    "        \n",
    "        else:\n",
    "            if freq/total < thresh_freq:\n",
    "                print('unfreq')\n",
    "                \n",
    "            else:\n",
    "                print(load, f'{round(freq/total, 2)} added')\n",
    "                load_locations.append(load)\n",
    "                \n",
    "    return load_locations"
   ]
  },
  {
   "cell_type": "code",
   "execution_count": 38,
   "metadata": {
    "collapsed": true
   },
   "outputs": [],
   "source": [
    "log_csv = pd.read_csv('evlog.csv', sep=',')\n",
    "log_csv.ts = log_csv.ts.apply(lambda x: x[:-4]) \n",
    "log_csv.drop(log_csv.columns[0], axis=1, inplace=True)\n",
    "log_csv = dataframe_utils.convert_timestamp_columns_in_df(log_csv)"
   ]
  },
  {
   "cell_type": "code",
   "execution_count": 40,
   "metadata": {
    "collapsed": true
   },
   "outputs": [
    {
     "name": "stdout",
     "output_type": "stream",
     "text": [
      "W_Completeren aanvraag - average proctime 189.72 and median proctime 5.22 minutes\n",
      "W_Completeren aanvraag 0.19 added\n",
      "W_Nabellen offertes - average proctime 243.56 and median proctime 2.62 minutes\n",
      "W_Nabellen offertes 0.18 added\n",
      "W_Nabellen incomplete dossiers - average proctime 166.66 and median proctime 5.35 minutes\n",
      "W_Nabellen incomplete dossiers 0.09 added\n",
      "W_Valideren aanvraag - average proctime 50.17 and median proctime 2.45 minutes\n",
      "W_Valideren aanvraag 0.07 added\n",
      "W_Afhandelen leads - average proctime 114.11 and median proctime 3.43 minutes\n",
      "W_Afhandelen leads 0.06 added\n",
      "A_PARTLYSUBMITTED - average proctime 0.58 and median proctime 0.62 minutes\n",
      "auto\n",
      "A_SUBMITTED - average proctime 0.01 and median proctime 0.0 minutes\n",
      "auto\n",
      "A_DECLINED - average proctime 0.03 and median proctime 0.03 minutes\n",
      "auto\n",
      "A_PREACCEPTED - average proctime 0.01 and median proctime 0.0 minutes\n",
      "auto\n",
      "O_SENT - average proctime 0.0 and median proctime 0.0 minutes\n",
      "auto\n",
      "O_CREATED - average proctime 0.0 and median proctime 0.0 minutes\n",
      "auto\n",
      "O_SELECTED - average proctime 0.04 and median proctime 0.0 minutes\n",
      "auto\n",
      "A_ACCEPTED - average proctime 3.8 and median proctime 3.05 minutes\n",
      "auto\n",
      "A_FINALIZED - average proctime 0.04 and median proctime 0.02 minutes\n",
      "auto\n",
      "O_CANCELLED - average proctime 0.37 and median proctime 0.0 minutes\n",
      "auto\n",
      "O_SENT_BACK - average proctime 0.01 and median proctime 0.0 minutes\n",
      "auto\n",
      "A_CANCELLED - average proctime 0.47 and median proctime 0.0 minutes\n",
      "auto\n",
      "A_REGISTERED - average proctime 0.05 and median proctime 0.0 minutes\n",
      "auto\n",
      "A_ACTIVATED - average proctime 0.06 and median proctime 0.0 minutes\n",
      "auto\n",
      "A_APPROVED - average proctime 0.05 and median proctime 0.0 minutes\n",
      "auto\n",
      "O_ACCEPTED - average proctime 0.01 and median proctime 0.0 minutes\n",
      "auto\n",
      "O_DECLINED - average proctime 0.03 and median proctime 0.0 minutes\n",
      "auto\n",
      "W_Beoordelen fraude - average proctime 139.24 and median proctime 0.25 minutes\n",
      "unfreq\n",
      "W_Wijzigen contractgegevens - average proctime 30.34 and median proctime 0.17 minutes\n",
      "unfreq\n"
     ]
    }
   ],
   "source": [
    "log_csv = get_lead_ts(log_csv)\n",
    "load_locations = get_locations(log_csv)"
   ]
  },
  {
   "cell_type": "code",
   "execution_count": 42,
   "metadata": {
    "collapsed": true
   },
   "outputs": [
    {
     "data": {
      "text/plain": [
       "['load_locations.pickle']"
      ]
     },
     "execution_count": 42,
     "metadata": {},
     "output_type": "execute_result"
    }
   ],
   "source": [
    "joblib.dump(load_locations, \"load_locations.pickle\")\n"
   ]
  },
  {
   "cell_type": "code",
   "execution_count": null,
   "metadata": {
    "collapsed": true
   },
   "outputs": [],
   "source": []
  }
 ],
 "metadata": {
  "kernelspec": {
   "display_name": "Python 3",
   "language": "python",
   "name": "python3"
  },
  "language_info": {
   "codemirror_mode": {
    "name": "ipython",
    "version": 3
   },
   "file_extension": ".py",
   "mimetype": "text/x-python",
   "name": "python",
   "nbconvert_exporter": "python",
   "pygments_lexer": "ipython3",
   "version": "3.7.9"
  }
 },
 "nbformat": 4,
 "nbformat_minor": 4
}
